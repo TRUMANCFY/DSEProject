{
 "cells": [
  {
   "cell_type": "code",
   "execution_count": 1,
   "metadata": {},
   "outputs": [],
   "source": [
    "from flask import Flask\n",
    "from flask_mail import Mail\n",
    "\n",
    "app = Flask(__name__)\n",
    "\n",
    "app.config.update(dict(\n",
    "    DEBUG = True,\n",
    "    MAIL_SERVER = 'smtp.gmail.com',\n",
    "    MAIL_PORT = 587,\n",
    "    MAIL_USE_TLS = True,\n",
    "    MAIL_USE_SSL = False,\n",
    "    MAIL_USERNAME = 'caifengyutruman@gmail.com',\n",
    "    MAIL_PASSWORD = 'caifengyu22',\n",
    "    DEFAULT_MAIL_SENDER= 'caifengyutruman@gmail.com',\n",
    "))\n",
    "\n",
    "mail = Mail(app)"
   ]
  },
  {
   "cell_type": "code",
   "execution_count": 2,
   "metadata": {},
   "outputs": [],
   "source": [
    "from flask_mail import Message"
   ]
  },
  {
   "cell_type": "code",
   "execution_count": 3,
   "metadata": {},
   "outputs": [],
   "source": [
    "msg = Message(\"Hello\",\n",
    "                  sender=\"caifengyutruman@gmail.com\",\n",
    "                  recipients=[\"fengyu.cai@epfl.ch\"])"
   ]
  },
  {
   "cell_type": "code",
   "execution_count": 5,
   "metadata": {},
   "outputs": [
    {
     "name": "stderr",
     "output_type": "stream",
     "text": [
      "send: 'ehlo tsf-436-wpa-0-120.epfl.ch\\r\\n'\n",
      "reply: b'250-smtp.gmail.com at your service, [128.179.136.120]\\r\\n'\n",
      "reply: b'250-SIZE 35882577\\r\\n'\n",
      "reply: b'250-8BITMIME\\r\\n'\n",
      "reply: b'250-STARTTLS\\r\\n'\n",
      "reply: b'250-ENHANCEDSTATUSCODES\\r\\n'\n",
      "reply: b'250-PIPELINING\\r\\n'\n",
      "reply: b'250-CHUNKING\\r\\n'\n",
      "reply: b'250 SMTPUTF8\\r\\n'\n",
      "reply: retcode (250); Msg: b'smtp.gmail.com at your service, [128.179.136.120]\\nSIZE 35882577\\n8BITMIME\\nSTARTTLS\\nENHANCEDSTATUSCODES\\nPIPELINING\\nCHUNKING\\nSMTPUTF8'\n",
      "send: 'STARTTLS\\r\\n'\n",
      "reply: b'220 2.0.0 Ready to start TLS\\r\\n'\n",
      "reply: retcode (220); Msg: b'2.0.0 Ready to start TLS'\n",
      "send: 'ehlo tsf-436-wpa-0-120.epfl.ch\\r\\n'\n",
      "reply: b'250-smtp.gmail.com at your service, [128.179.136.120]\\r\\n'\n",
      "reply: b'250-SIZE 35882577\\r\\n'\n",
      "reply: b'250-8BITMIME\\r\\n'\n",
      "reply: b'250-AUTH LOGIN PLAIN XOAUTH2 PLAIN-CLIENTTOKEN OAUTHBEARER XOAUTH\\r\\n'\n",
      "reply: b'250-ENHANCEDSTATUSCODES\\r\\n'\n",
      "reply: b'250-PIPELINING\\r\\n'\n",
      "reply: b'250-CHUNKING\\r\\n'\n",
      "reply: b'250 SMTPUTF8\\r\\n'\n",
      "reply: retcode (250); Msg: b'smtp.gmail.com at your service, [128.179.136.120]\\nSIZE 35882577\\n8BITMIME\\nAUTH LOGIN PLAIN XOAUTH2 PLAIN-CLIENTTOKEN OAUTHBEARER XOAUTH\\nENHANCEDSTATUSCODES\\nPIPELINING\\nCHUNKING\\nSMTPUTF8'\n",
      "send: 'AUTH PLAIN AGNhaWZlbmd5dXRydW1hbkBnbWFpbC5jb20AY2FpZmVuZ3l1MjI=\\r\\n'\n",
      "reply: b'235 2.7.0 Accepted\\r\\n'\n",
      "reply: retcode (235); Msg: b'2.7.0 Accepted'\n",
      "send: 'mail FROM:<caifengyutruman@gmail.com> size=289\\r\\n'\n",
      "reply: b'250 2.1.0 OK d14sm37333843wru.9 - gsmtp\\r\\n'\n",
      "reply: retcode (250); Msg: b'2.1.0 OK d14sm37333843wru.9 - gsmtp'\n",
      "send: 'rcpt TO:<fengyu.cai@epfl.ch>\\r\\n'\n",
      "reply: b'250 2.1.5 OK d14sm37333843wru.9 - gsmtp\\r\\n'\n",
      "reply: retcode (250); Msg: b'2.1.5 OK d14sm37333843wru.9 - gsmtp'\n",
      "send: 'data\\r\\n'\n",
      "reply: b'354  Go ahead d14sm37333843wru.9 - gsmtp\\r\\n'\n",
      "reply: retcode (354); Msg: b'Go ahead d14sm37333843wru.9 - gsmtp'\n",
      "data: (354, b'Go ahead d14sm37333843wru.9 - gsmtp')\n",
      "send: b'Content-Type: text/plain; charset=\"utf-8\"\\r\\nMIME-Version: 1.0\\r\\nContent-Transfer-Encoding: 7bit\\r\\nSubject: Hello\\r\\nFrom: caifengyutruman@gmail.com\\r\\nTo: fengyu.cai@epfl.ch\\r\\nDate: Fri, 17 Jan 2020 21:01:41 +0100\\r\\nMessage-ID: <157929130089.68217.4798628640189836552@tsf-436-wpa-0-120.epfl.ch>\\r\\n\\r\\n.\\r\\n'\n",
      "reply: b'250 2.0.0 OK  1579291344 d14sm37333843wru.9 - gsmtp\\r\\n'\n",
      "reply: retcode (250); Msg: b'2.0.0 OK  1579291344 d14sm37333843wru.9 - gsmtp'\n",
      "data: (250, b'2.0.0 OK  1579291344 d14sm37333843wru.9 - gsmtp')\n",
      "send: 'quit\\r\\n'\n",
      "reply: b'221 2.0.0 closing connection d14sm37333843wru.9 - gsmtp\\r\\n'\n",
      "reply: retcode (221); Msg: b'2.0.0 closing connection d14sm37333843wru.9 - gsmtp'\n"
     ]
    }
   ],
   "source": [
    "with app.app_context():\n",
    "    mail.send(msg)"
   ]
  },
  {
   "cell_type": "code",
   "execution_count": 5,
   "metadata": {},
   "outputs": [
    {
     "data": {
      "text/plain": [
       "<flask.ctx.AppContext at 0x103971940>"
      ]
     },
     "execution_count": 5,
     "metadata": {},
     "output_type": "execute_result"
    }
   ],
   "source": [
    "app.app_context()"
   ]
  },
  {
   "cell_type": "code",
   "execution_count": null,
   "metadata": {},
   "outputs": [],
   "source": []
  }
 ],
 "metadata": {
  "kernelspec": {
   "display_name": "Python 3",
   "language": "python",
   "name": "python3"
  },
  "language_info": {
   "codemirror_mode": {
    "name": "ipython",
    "version": 3
   },
   "file_extension": ".py",
   "mimetype": "text/x-python",
   "name": "python",
   "nbconvert_exporter": "python",
   "pygments_lexer": "ipython3",
   "version": "3.7.3"
  }
 },
 "nbformat": 4,
 "nbformat_minor": 2
}
